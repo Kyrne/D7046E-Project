{
 "cells": [
  {
   "cell_type": "code",
   "execution_count": 1,
   "metadata": {},
   "outputs": [],
   "source": [
    "\n",
    "import os\n",
    "import matplotlib.pyplot as plt\n",
    "import torch\n",
    "import torch.nn as nn\n",
    "import xarray as xr\n",
    "import numpy as np\n",
    "from sklearn.metrics import confusion_matrix, ConfusionMatrixDisplay\n",
    "from torchvision.utils import make_grid\n",
    "from torch.utils.data import Dataset\n",
    "from torchvision import transforms\n",
    "from torch.utils.data import DataLoader\n",
    "from torch.utils.data import WeightedRandomSampler\n",
    "from torchvision.transforms import v2\n",
    "import utils"
   ]
  },
  {
   "cell_type": "code",
   "execution_count": 2,
   "metadata": {},
   "outputs": [],
   "source": [
    "# Read data + corresponding json info (incl ground truth)\n",
    "img_paths_train = list(np.load(os.path.join(utils.BASE_PATH_DATA, utils.IMG_PATHS_TRAIN)))\n",
    "img_paths_train = [path[1:] for path in img_paths_train]\n",
    "\n",
    "img_paths_val = list(np.load(os.path.join(utils.BASE_PATH_DATA, utils.IMG_PATHS_VAL)))\n",
    "img_paths_val = [path[1:] for path in img_paths_val]\n",
    "\n",
    "img_paths_test = list(np.load(os.path.join(utils.BASE_PATH_DATA, utils.IMG_PATHS_TEST)))\n",
    "img_paths_test = [path[1:] for path in img_paths_test]\n",
    "\n",
    "json_content_train = list(np.load(os.path.join(utils.BASE_PATH_DATA, 'skogs_json_train.npy'), allow_pickle=True))\n",
    "json_content_val = list(np.load(os.path.join(utils.BASE_PATH_DATA, 'skogs_json_val.npy'), allow_pickle=True))\n",
    "json_content_test = list(np.load(os.path.join(utils.BASE_PATH_DATA, 'skogs_json_test.npy'), allow_pickle=True))\n",
    "\n",
    "train_label = list(np.load(os.path.join(utils.BASE_PATH_DATA, utils.LABEL_PATH_TRAIN)))\n",
    "val_label = list(np.load(os.path.join(utils.BASE_PATH_DATA, utils.LABEL_PATH_VAL)))\n",
    "test_label = list(np.load(os.path.join(utils.BASE_PATH_DATA, utils.LABEL_PATH_TEST)))"
   ]
  },
  {
   "cell_type": "code",
   "execution_count": 3,
   "metadata": {},
   "outputs": [
    {
     "name": "stdout",
     "output_type": "stream",
     "text": [
      "train size = 260\n",
      "val size = 72\n",
      "test size = 100\n"
     ]
    }
   ],
   "source": [
    "print(f'train size = {len(img_paths_train)}')\n",
    "print(f'val size = {len(img_paths_val)}')\n",
    "print(f'test size = {len(img_paths_test)}')"
   ]
  },
  {
   "cell_type": "code",
   "execution_count": 4,
   "metadata": {},
   "outputs": [
    {
     "data": {
      "text/plain": [
       "(0.0, 197.4)"
      ]
     },
     "execution_count": 4,
     "metadata": {},
     "output_type": "execute_result"
    },
    {
     "data": {
      "image/png": "[encoded data removed]",
      "text/plain": [
       "<Figure size 1000x500 with 3 Axes>"
      ]
     },
     "metadata": {},
     "output_type": "display_data"
    }
   ],
   "source": [
    "# plot distribution of each data set\n",
    "labels = [\"clear\", \"cloudy\"]\n",
    "labels_num = [0,1]\n",
    "fig, (ax1, ax2, ax3) = plt.subplots(1,3, figsize=(10,5))\n",
    "\n",
    "# Bar for training\n",
    "cloudy = np.count_nonzero(train_label)\n",
    "clear = len(train_label) - cloudy\n",
    "ax1.bar(labels_num, [clear,cloudy])\n",
    "ax1.set_xticks(labels_num, labels)\n",
    "ax1.set_title(\"Distribution of training set\")\n",
    "ylim = ax1.get_ylim()\n",
    "\n",
    "# Bar for validation\n",
    "cloudy = np.count_nonzero(val_label)\n",
    "clear = len(val_label) - cloudy\n",
    "ax2.bar(labels_num, [clear,cloudy])\n",
    "ax2.set_xticks(labels_num, labels)\n",
    "ax2.set_title(\"Distribution of validation set\")\n",
    "ax2.set_ylim(ylim)\n",
    "\n",
    "# Bar for testing\n",
    "cloudy = np.count_nonzero(test_label)\n",
    "clear = len(test_label) - cloudy\n",
    "ax3.bar(labels_num, [clear,cloudy])\n",
    "ax3.set_xticks(labels_num, labels)\n",
    "ax3.set_title(\"Distribution of test set\")\n",
    "ax3.set_ylim(ylim)\n"
   ]
  },
  {
   "cell_type": "code",
   "execution_count": 5,
   "metadata": {},
   "outputs": [],
   "source": [
    "BATCH_SIZE = 10\n",
    "SHUFFLE = False\n",
    "\n",
    "# Train augmentations\n",
    "transformation = v2.Compose([\n",
    "    #v2.RandomResizedCrop(size=(224, 224), antialias=True),\n",
    "    v2.RandomHorizontalFlip(p=0.5),\n",
    "    v2.RandomVerticalFlip(p=0.5),\n",
    "    v2.ToDtype(torch.float32, scale=True),\n",
    "    v2.Normalize(mean=[0.485, 0.456, 0.406], std=[0.229, 0.224, 0.225]),\n",
    "    transforms.ToTensor()\n",
    "    # Add training augmentations here, remember: we do not want to transform the validation images.\n",
    "    # For information about augmentation see: https://pytorch.org/vision/stable/transforms.html\n",
    "])\n",
    "\n",
    "train_data = utils.CustomImageDataset(os.path.join(utils.BASE_PATH_DATA, utils.LABEL_PATH_TRAIN), os.path.join(utils.BASE_PATH_DATA, utils.IMG_PATHS_TRAIN), transform=transformation)\n",
    "labels = train_data.img_labels\n",
    "class_sample_count = np.array(\n",
    "    [len(np.where(labels == t)[0]) for t in np.unique(labels)])\n",
    "\n",
    "weight = 1. / class_sample_count\n",
    "samples_weight = np.array([weight[t] for t in labels])\n",
    "\n",
    "samples_weight = torch.from_numpy(samples_weight)\n",
    "sampler = WeightedRandomSampler(samples_weight.type('torch.DoubleTensor'), len(samples_weight))\n",
    "\n",
    "train_loader = DataLoader(train_data, batch_size=BATCH_SIZE, shuffle=SHUFFLE, sampler=sampler)\n",
    "\n",
    "val_data = utils.CustomImageDataset(os.path.join(utils.BASE_PATH_DATA, utils.LABEL_PATH_VAL), os.path.join(utils.BASE_PATH_DATA, utils.IMG_PATHS_VAL), transform=transforms.ToTensor())\n",
    "val_loader = DataLoader(val_data, batch_size=BATCH_SIZE, shuffle=SHUFFLE)\n",
    "\n",
    "test_data = utils.CustomImageDataset(os.path.join(utils.BASE_PATH_DATA, utils.LABEL_PATH_TEST), os.path.join(utils.BASE_PATH_DATA, utils.IMG_PATHS_TEST), transform=transforms.ToTensor())\n",
    "test_loader = DataLoader(test_data, batch_size=BATCH_SIZE, shuffle=SHUFFLE)"
   ]
  },
  {
   "cell_type": "code",
   "execution_count": 6,
   "metadata": {},
   "outputs": [
    {
     "name": "stdout",
     "output_type": "stream",
     "text": [
      "(21, 21, 6)\n",
      "(21, 21, 6)\n",
      "(21, 21, 6)\n",
      "(21, 21, 6)\n",
      "(21, 21, 6)\n",
      "(21, 21, 6)\n",
      "(21, 21, 6)\n",
      "(21, 21, 6)\n",
      "(21, 21, 6)\n",
      "(21, 21, 6)\n"
     ]
    }
   ],
   "source": [
    "# showing the first batch when using tensors\n",
    "def show_batch(dl): \n",
    "    for images,lables in dl: \n",
    "        rgb_img = images[:, [3,2,1], :, :]/torch.max(images[:, [3,2,1], :, :])\n",
    "        list_img = [img for img in rgb_img]\n",
    "        Grid = make_grid(list_img, nrow=5)\n",
    "        img = transforms.ToPILImage()(Grid) \n",
    "        img.show() \n",
    "        break\n",
    "        \n",
    "# show first batch of train data\n",
    "show_batch(train_loader)"
   ]
  },
  {
   "cell_type": "code",
   "execution_count": 7,
   "metadata": {},
   "outputs": [
    {
     "name": "stdout",
     "output_type": "stream",
     "text": [
      "(21, 21, 6)\n",
      "(21, 21, 6)\n",
      "(21, 21, 6)\n",
      "(21, 21, 6)\n",
      "(21, 21, 6)\n",
      "(21, 21, 6)\n",
      "(21, 21, 6)\n",
      "(21, 21, 6)\n",
      "(21, 21, 6)\n",
      "(21, 21, 6)\n"
     ]
    },
    {
     "ename": "AttributeError",
     "evalue": "'int' object has no attribute 'step'",
     "output_type": "error",
     "traceback": [
      "\u001b[1;31m---------------------------------------------------------------------------\u001b[0m",
      "\u001b[1;31mAttributeError\u001b[0m                            Traceback (most recent call last)",
      "Cell \u001b[1;32mIn[7], line 22\u001b[0m\n\u001b[0;32m     19\u001b[0m optimizer \u001b[38;5;241m=\u001b[39m torch\u001b[38;5;241m.\u001b[39moptim\u001b[38;5;241m.\u001b[39mAdam(network\u001b[38;5;241m.\u001b[39mparameters(), lr\u001b[38;5;241m=\u001b[39mLEARNING_RATE)\n\u001b[0;32m     20\u001b[0m \u001b[38;5;66;03m#optimizer = torch.optim.SGD(network.parameters(), lr=0.1)\u001b[39;00m\n\u001b[1;32m---> 22\u001b[0m \u001b[43mutils\u001b[49m\u001b[38;5;241;43m.\u001b[39;49m\u001b[43mtrain_model\u001b[49m\u001b[43m(\u001b[49m\u001b[43mnetwork\u001b[49m\u001b[43m,\u001b[49m\u001b[43m \u001b[49m\u001b[43mloss_function\u001b[49m\u001b[43m,\u001b[49m\u001b[43m \u001b[49m\u001b[43moptimizer\u001b[49m\u001b[43m,\u001b[49m\u001b[43m \u001b[49m\u001b[43mtrain_loader\u001b[49m\u001b[43m,\u001b[49m\u001b[43m \u001b[49m\u001b[43mval_loader\u001b[49m\u001b[43m,\u001b[49m\u001b[43m \u001b[49m\u001b[43mEPOCHS\u001b[49m\u001b[43m,\u001b[49m\u001b[43m \u001b[49m\u001b[43msigmoid\u001b[49m\u001b[38;5;241;43m=\u001b[39;49m\u001b[38;5;28;43;01mTrue\u001b[39;49;00m\u001b[43m,\u001b[49m\u001b[43m \u001b[49m\u001b[43mcnn\u001b[49m\u001b[38;5;241;43m=\u001b[39;49m\u001b[38;5;28;43;01mFalse\u001b[39;49;00m\u001b[43m,\u001b[49m\u001b[43m \u001b[49m\u001b[43mshow_log\u001b[49m\u001b[38;5;241;43m=\u001b[39;49m\u001b[38;5;28;43;01mTrue\u001b[39;49;00m\u001b[43m,\u001b[49m\u001b[43m \u001b[49m\u001b[43mshow_plot\u001b[49m\u001b[38;5;241;43m=\u001b[39;49m\u001b[38;5;28;43;01mTrue\u001b[39;49;00m\u001b[43m)\u001b[49m\n",
      "File \u001b[1;32mc:\\awilde\\britta\\LTU\\NeuralNetworks\\Project\\D7046E-Project\\utils.py:148\u001b[0m, in \u001b[0;36mtrain_model\u001b[1;34m(model, criterion, optimizer, train_loader, val_loader, scheduler, num_epochs, show_plot, show_log, sigmoid, cnn)\u001b[0m\n\u001b[0;32m    145\u001b[0m optimizer\u001b[38;5;241m.\u001b[39mstep()\n\u001b[0;32m    147\u001b[0m \u001b[38;5;28;01mif\u001b[39;00m scheduler \u001b[38;5;241m!=\u001b[39m \u001b[38;5;28;01mNone\u001b[39;00m:\n\u001b[1;32m--> 148\u001b[0m     \u001b[43mscheduler\u001b[49m\u001b[38;5;241;43m.\u001b[39;49m\u001b[43mstep\u001b[49m()\n\u001b[0;32m    150\u001b[0m \u001b[38;5;66;03m# Update loss\u001b[39;00m\n\u001b[0;32m    151\u001b[0m epoch_training_loss \u001b[38;5;241m+\u001b[39m\u001b[38;5;241m=\u001b[39m loss\u001b[38;5;241m.\u001b[39mdetach()\u001b[38;5;241m.\u001b[39mnumpy()\n",
      "\u001b[1;31mAttributeError\u001b[0m: 'int' object has no attribute 'step'"
     ]
    }
   ],
   "source": [
    "# Hyperparams\n",
    "LEARNING_RATE = 0.01\n",
    "EPOCHS = 30\n",
    "network = nn.Sequential(\n",
    "    nn.Linear(21*21*12, 64), \n",
    "    nn.ReLU(),\n",
    "    nn.Linear(64, 64), \n",
    "    nn.ReLU(),\n",
    "    nn.Linear(64, 64), \n",
    "    nn.ReLU(),\n",
    "    nn.Linear(64, 1), \n",
    "    nn.Sigmoid()\n",
    ")\n",
    "\n",
    "# define loss\n",
    "#loss_function = torch.nn.CrossEntropyLoss()\n",
    "loss_function = torch.nn.BCELoss()\n",
    "# define optimizer\n",
    "optimizer = torch.optim.Adam(network.parameters(), lr=LEARNING_RATE)\n",
    "#optimizer = torch.optim.SGD(network.parameters(), lr=0.1)\n",
    "\n",
    "utils.train_model(network, loss_function, optimizer, train_loader, val_loader, EPOCHS, sigmoid=True, cnn=False, show_log=True, show_plot=True)"
   ]
  }
 ],
 "metadata": {
  "kernelspec": {
   "display_name": "NeuralNetworksProject",
   "language": "python",
   "name": "python3"
  },
  "language_info": {
   "codemirror_mode": {
    "name": "ipython",
    "version": 3
   },
   "file_extension": ".py",
   "mimetype": "text/x-python",
   "name": "python",
   "nbconvert_exporter": "python",
   "pygments_lexer": "ipython3",
   "version": "3.11.7"
  }
 },
 "nbformat": 4,
 "nbformat_minor": 2
}
